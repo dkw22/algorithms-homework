{
 "cells": [
  {
   "cell_type": "markdown",
   "metadata": {},
   "source": [
    "# Algorithms, Binary Search & Linked Lists"
   ]
  },
  {
   "cell_type": "markdown",
   "metadata": {},
   "source": [
    "## Tasks Today:\n",
    " \n",
    "&check; <b>In-Place Algorithms</b> <br>\n",
    " &nbsp;&nbsp;&nbsp;&nbsp; &check; Syntax <br>\n",
    " &nbsp;&nbsp;&nbsp;&nbsp; &check; Out of Place Algorithm <br>\n",
    " &nbsp;&nbsp;&nbsp;&nbsp; &check; In-Class Exercise #1 <br>\n",
    "&check; <b>Two Pointers</b> <br>\n",
    "&check; <b>Linked Lists</b> <br>\n",
    "&check; <b>Merge Sort</b> <br>\n",
    " &nbsp;&nbsp;&nbsp;&nbsp; a) Video on Algorithms <br>\n",
    " &nbsp;&nbsp;&nbsp;&nbsp; &check; How it Works <br>\n",
    "5) <b>Exercises</b> <br>\n",
    " &nbsp;&nbsp;&nbsp;&nbsp; a) Exercise #1 - Reverse a List in Place Using an In-Place Algorithm <br>\n",
    " &nbsp;&nbsp;&nbsp;&nbsp; b) Exercise #2 - Find Distinct Words <br>\n",
    " &nbsp;&nbsp;&nbsp;&nbsp; c) Exercise #3 - Write a program to implement a Linear Search Algorithm. <br>"
   ]
  },
  {
   "cell_type": "markdown",
   "metadata": {},
   "source": [
    "### White Board Problem"
   ]
  },
  {
   "cell_type": "markdown",
   "metadata": {},
   "source": [
    "#### Fizz Buzz #2\n",
    "Write a function to print all numbers 1 to n, but there are some constraints<br>\n",
    "If the number is divisible by 3, print 'Fizz' instead of the number<br>\n",
    "If the number is divisible 5, print 'Buzz' instead of the number<br>\n",
    "If the number is divisible by both 3 and 5, print 'FizzBuzz' instead of the number<br>\n",
    "Otherwise, simply print the number"
   ]
  },
  {
   "cell_type": "code",
   "execution_count": 5,
   "metadata": {},
   "outputs": [
    {
     "name": "stdout",
     "output_type": "stream",
     "text": [
      "1\n",
      "2\n",
      "Fizz\n",
      "4\n",
      "Buzz\n",
      "Fizz\n",
      "7\n",
      "8\n",
      "Fizz\n",
      "Buzz\n",
      "11\n",
      "Fizz\n",
      "13\n",
      "14\n",
      "FizzBuzz\n"
     ]
    }
   ],
   "source": [
    "def num_list(num):\n",
    "    for x in range(1,num):\n",
    "        if x % 3 == 0 and x % 5 == 0:\n",
    "            print(\"FizzBuzz\")\n",
    "        elif x % 3 == 0:\n",
    "            print(\"Fizz\")\n",
    "        elif x % 5 == 0:\n",
    "            print(\"Buzz\")\n",
    "        else:\n",
    "            print(x)\n",
    "            \n",
    "num_list(16)"
   ]
  },
  {
   "cell_type": "markdown",
   "metadata": {},
   "source": [
    "## In-Place Algorithms"
   ]
  },
  {
   "cell_type": "markdown",
   "metadata": {},
   "source": [
    "#### Syntax"
   ]
  },
  {
   "cell_type": "code",
   "execution_count": 9,
   "metadata": {},
   "outputs": [
    {
     "name": "stdout",
     "output_type": "stream",
     "text": [
      "Before swap: [20, 4, 10]\n",
      "After swap: [4, 20, 10]\n"
     ]
    }
   ],
   "source": [
    "# var[i],var[i+1] = var[i+1],var[i]\n",
    "#swap algorithm\n",
    "\n",
    "def swap(alist,x,y,z):\n",
    "    alist[x],alist[y],alist[z] = alist[z],alist[y],alist[x]\n",
    "    return alist\n",
    "my_list = [20,4,10]\n",
    "print(f\"Before swap: {my_list}\")\n",
    "swap(my_list,0,2,1)\n",
    "print(f\"After swap: {my_list}\")"
   ]
  },
  {
   "cell_type": "markdown",
   "metadata": {},
   "source": [
    "#### Out of Place Algorithm"
   ]
  },
  {
   "cell_type": "code",
   "execution_count": 12,
   "metadata": {},
   "outputs": [
    {
     "name": "stdout",
     "output_type": "stream",
     "text": [
      "[10, 20, 4]\n",
      "Before ['a', 'b', 'c', 'd']\n",
      "after ['d', 'c', 'b', 'a']\n"
     ]
    }
   ],
   "source": [
    "#not swapping, but rather reversing complexity\n",
    "#Also copies to another place in memory\n",
    "my_list_copy = my_list[::-1]\n",
    "print(my_list_copy)\n",
    "\n",
    "array = ['a','b','c','d']\n",
    "new_array = ['a'] * len(array)\n",
    "print(\"Before\",array)\n",
    "length = len(array) - 1\n",
    "for i in range(length):\n",
    "    new_array[i] = array[length - i]\n",
    "array = new_array\n",
    "print('after',array)"
   ]
  },
  {
   "cell_type": "markdown",
   "metadata": {},
   "source": [
    "#### In-Class Exercise #1 <br>\n",
    "<p>Write a function that takes in four arguments (list, index1, index2, index3), and swaps those three positions in the list passed in.</p>"
   ]
  },
  {
   "cell_type": "code",
   "execution_count": 18,
   "metadata": {
    "scrolled": true
   },
   "outputs": [
    {
     "name": "stdout",
     "output_type": "stream",
     "text": [
      "[2, 4, 3, 8, 4, 10, 6]\n"
     ]
    }
   ],
   "source": [
    "l_1 = [10, 4, 3, 8, 4, 2, 6]\n",
    "def swaping(zlist,x,y,z):\n",
    "    zlist[x],zlist[y],zlist[z] = zlist[z],zlist[y],zlist[x]\n",
    "    return zlist\n",
    "swaping(l_1,0,6,5)\n",
    "print(l_1)\n"
   ]
  },
  {
   "cell_type": "markdown",
   "metadata": {},
   "source": [
    "## Two Pointers"
   ]
  },
  {
   "cell_type": "markdown",
   "metadata": {},
   "source": [
    "#### Syntax"
   ]
  },
  {
   "cell_type": "code",
   "execution_count": 21,
   "metadata": {},
   "outputs": [
    {
     "name": "stdout",
     "output_type": "stream",
     "text": [
      "[20, 48, 23, 22, 7, 5, 2, 1]\n",
      "[1, 2, 5, 7, 22, 23, 48, 20]\n"
     ]
    }
   ],
   "source": [
    "#alist[left],alist[right] = alist[right],alist[left]\n",
    "#use two pointers to swap and can use a while loop in most cases\n",
    "def twoPointers(alist):\n",
    "    #Creating pointers for the list below:\n",
    "    left = 0\n",
    "    right = len(alist)-1\n",
    "    while left <= right:\n",
    "        alist[left],alist[right] = alist[right],alist[left]\n",
    "        left += 1\n",
    "        right -= 1\n",
    "    return alist\n",
    "\n",
    "my_other_list = [1,2,5,7,22,23,48,20]\n",
    "twoPointers(my_other_list)\n",
    "print(my_other_list)\n",
    "twoPointers(my_other_list)\n",
    "print(my_other_list)"
   ]
  },
  {
   "cell_type": "markdown",
   "metadata": {},
   "source": [
    "#### Video of Algorithms <br>\n",
    "<p>Watch the video about algorithms.</p>\n",
    "\n",
    "https://www.youtube.com/watch?v=Q9HjeFD62Uk\n",
    "\n",
    "https://www.youtube.com/watch?v=kPRA0W1kECg\n",
    "\n",
    "https://www.youtube.com/watch?v=ZZuD6iUe3Pc"
   ]
  },
  {
   "cell_type": "markdown",
   "metadata": {},
   "source": [
    "# Sorting Algorithms"
   ]
  },
  {
   "cell_type": "markdown",
   "metadata": {},
   "source": [
    "#### Bubble Sort\n",
    "\n",
    "Worst Case: O(n^2) Time - O(1) Space"
   ]
  },
  {
   "cell_type": "code",
   "execution_count": 22,
   "metadata": {},
   "outputs": [
    {
     "data": {
      "text/plain": [
       "[1, 22, 34, 44, 55, 66, 88, 100]"
      ]
     },
     "execution_count": 22,
     "metadata": {},
     "output_type": "execute_result"
    }
   ],
   "source": [
    "#Best case: O(n) - Linear\n",
    "def swapAgain(i,j,array):\n",
    "    array[i],array[j] = array[j],array[i]\n",
    "def bubbleSort(array):\n",
    "    isSorted = False\n",
    "    while not isSorted:\n",
    "        isSorted = True\n",
    "        for num in range(len(array) - 1):\n",
    "            if array[num] > array[num + 1]:\n",
    "                swapAgain(num,num+1, array)\n",
    "                isSorted = False\n",
    "    return array\n",
    "bubbleSort([22,55,88,44,1,100,34,66])"
   ]
  },
  {
   "cell_type": "markdown",
   "metadata": {},
   "source": [
    "##### Insertion Sort\n",
    "\n",
    "Worst Case: O(n^2) time - O(1)space"
   ]
  },
  {
   "cell_type": "code",
   "execution_count": 53,
   "metadata": {},
   "outputs": [
    {
     "data": {
      "text/plain": [
       "[1, 22, 34, 44, 55, 66, 88, 100]"
      ]
     },
     "execution_count": 53,
     "metadata": {},
     "output_type": "execute_result"
    }
   ],
   "source": [
    "def swap(i,j,array):\n",
    "    array[i],array[j] = array[j],array[i]\n",
    "    \n",
    "def insertionSort(array):\n",
    "    for i in range(1,len(array)):\n",
    "        j = i\n",
    "        while j > 0 and array[j] < array[j-1]:\n",
    "            swap(j, j-1, array)\n",
    "            j-=1\n",
    "    return array\n",
    "\n",
    "insertionSort([22,55,88,44,1,100,34,66])"
   ]
  },
  {
   "cell_type": "markdown",
   "metadata": {},
   "source": [
    "## Merge Sort"
   ]
  },
  {
   "cell_type": "markdown",
   "metadata": {},
   "source": [
    "#### How it Works"
   ]
  },
  {
   "cell_type": "code",
   "execution_count": 65,
   "metadata": {},
   "outputs": [
    {
     "name": "stdout",
     "output_type": "stream",
     "text": [
      "Splitting... [17, 7, 11, 17, 5]\n",
      "Splitting... [17, 7]\n",
      "Splitting... [17]\n",
      "Merging:  [17]\n",
      "Splitting... [7]\n",
      "Merging:  [7]\n",
      "Merging:  [7, 17]\n",
      "Splitting... [11, 17, 5]\n",
      "Splitting... [11]\n",
      "Merging:  [11]\n",
      "Splitting... [17, 5]\n",
      "Splitting... [17]\n",
      "Merging:  [17]\n",
      "Splitting... [5]\n",
      "Merging:  [5]\n",
      "Merging:  [5, 17]\n",
      "Merging:  [5, 11, 17]\n",
      "Merging:  [5, 7, 11, 17, 17]\n"
     ]
    },
    {
     "data": {
      "text/plain": [
       "[5, 7, 11, 17, 17]"
      ]
     },
     "execution_count": 65,
     "metadata": {},
     "output_type": "execute_result"
    }
   ],
   "source": [
    "# Use this to generate random lists from 0-20\n",
    "from random import randint\n",
    "nums = [randint(0,20) for i in range(5)]\n",
    "#Write merge sort below:\n",
    "def mergeSort(alist):\n",
    "    print(\"Splitting...\",alist)\n",
    "# Step 1: Split everything into its own group (evenly as possible)\n",
    "    if len(alist) > 1:\n",
    "        mid = len(alist)//2\n",
    "        #Setting up left and right values\n",
    "        leftHalf = alist[:mid]\n",
    "        rightHalf = alist[mid:]\n",
    "        # recursively call function to perform splits as needed\n",
    "        mergeSort(leftHalf)\n",
    "        mergeSort(rightHalf)\n",
    "        # index pointers for list\n",
    "        i = 0 # pointer for left\n",
    "        j = 0 # pointer for right\n",
    "        k = 0 # pointer for main array\n",
    "#Step 2: From left to right; merge the two groups\n",
    "        while i < len(leftHalf) and j < len(rightHalf):\n",
    "            if leftHalf[i] < rightHalf[j]:\n",
    "                alist[k] = leftHalf[i]\n",
    "                i = i + 1\n",
    "            else:\n",
    "                alist[k] = rightHalf[j]\n",
    "                j = j + 1\n",
    "            k = k + 1\n",
    "#Step 3: While merging, place each item in the correct position within the merged group\n",
    "        while i < len(leftHalf):\n",
    "            alist[k] = leftHalf[i]\n",
    "            i = i + 1\n",
    "            k = k + 1\n",
    "        while j < len(rightHalf):\n",
    "            alist[k] = rightHalf[j]\n",
    "            j = j + 1\n",
    "            k = k + 1\n",
    "    print(\"Merging: \",alist)\n",
    "    return alist\n",
    "#Step 4: Continue Steps 3/4 until one group is left\n",
    "mergeSort(nums)"
   ]
  },
  {
   "cell_type": "markdown",
   "metadata": {},
   "source": [
    "# Binary Search\n",
    "\n",
    "The Binary Search algorithm works by finding the number in the middle of a given array and comparing it to the target. Given that the array is sorted\n",
    "\n",
    "* The worst case run time for this algorithm is `O(log(n))`"
   ]
  },
  {
   "cell_type": "code",
   "execution_count": 70,
   "metadata": {},
   "outputs": [
    {
     "data": {
      "text/plain": [
       "'The index is...4'"
      ]
     },
     "execution_count": 70,
     "metadata": {},
     "output_type": "execute_result"
    }
   ],
   "source": [
    "# Less == Left\n",
    "# Greater = Right\n",
    "# List of numbers must be sorted\n",
    "def binarySearchHelper(array, target, left, right):\n",
    "    while left <= right:\n",
    "        middle = (left + right)// 2\n",
    "        potentialMatch = array[middle]\n",
    "        if target == potentialMatch:\n",
    "            return f\"The index is...{middle}\"\n",
    "        elif target < potentialMatch:\n",
    "            right = middle - 1\n",
    "        else:\n",
    "            left = middle + 1\n",
    "    return -1\n",
    "def binarySearch(array,target):\n",
    "    return binarySearchHelper(array,target,0,len(array)-1)\n",
    "\n",
    "binarySearch([22,44,55,66,88,100],88)"
   ]
  },
  {
   "cell_type": "markdown",
   "metadata": {},
   "source": [
    "# Exercises"
   ]
  },
  {
   "cell_type": "markdown",
   "metadata": {},
   "source": [
    "### Exercise #1 <br>\n",
    "<p>Reverse the list below in-place using an in-place algorithm.<br>For extra credit: Reverse the strings at the same time.</p>"
   ]
  },
  {
   "cell_type": "code",
   "execution_count": 67,
   "metadata": {},
   "outputs": [
    {
     "name": "stdout",
     "output_type": "stream",
     "text": [
      "Before swap: ['this', 'is', 'a', 'sentence', '.']\n",
      "After swap: ['.', 'ecnetnes', 'a', 'si', 'siht']\n"
     ]
    }
   ],
   "source": [
    "words = ['this' , 'is', 'a', 'sentence', '.']\n",
    "# def swappingAgain(alist,v,w,x,y,z):\n",
    "#     alist[v],alist[w],alist[x],alist[y],alist[z] = alist[z][::-1],alist[y][::-1],alist[x][::-1],alist[w][::-1],alist[v][::-1]\n",
    "#     return alist\n",
    "# print(f\"Before swap: {words}\")\n",
    "# swappingAgain(words,0,1,2,3,4)\n",
    "# print(f\"After swap: {words}\")\n",
    "def twoPointersSwap(alist):\n",
    "    left = 0\n",
    "    right = len(alist)-1\n",
    "    while left <= right:\n",
    "        alist[left],alist[right] = alist[right][::-1],alist[left][::-1]\n",
    "        left += 1\n",
    "        right -= 1\n",
    "    return alist\n",
    "print(f\"Before swap: {words}\")\n",
    "twoPointersSwap(words)\n",
    "print(f\"After swap: {words}\")"
   ]
  },
  {
   "cell_type": "markdown",
   "metadata": {},
   "source": [
    "### Exercise #2 <br>\n",
    "<p>Create a function that counts how many distinct words are in the string below, then outputs a dictionary with the words as the key and the value as the amount of times that word appears in the string.<br>Should output:<br>{'a': 5,<br>\n",
    " 'abstract': 1,<br>\n",
    " 'an': 3,<br>\n",
    " 'array': 2, ... etc...</p>"
   ]
  },
  {
   "cell_type": "code",
   "execution_count": 89,
   "metadata": {},
   "outputs": [
    {
     "name": "stdout",
     "output_type": "stream",
     "text": [
      "in: 1\n",
      "computing,: 1\n",
      "a: 5\n",
      "hash: 4\n",
      "table: 2\n",
      "map: 2\n",
      "is: 1\n",
      "data: 2\n",
      "structure: 2\n",
      "which: 2\n",
      "implements: 1\n",
      "an: 3\n",
      "associative: 1\n",
      "array: 2\n",
      "abstract: 1\n",
      "type,: 1\n",
      "that: 1\n",
      "can: 2\n",
      "keys: 1\n",
      "to: 2\n",
      "values.: 1\n",
      "uses: 1\n",
      "function: 1\n",
      "compute: 1\n",
      "index: 1\n",
      "into: 1\n",
      "of: 1\n",
      "buckets: 1\n",
      "or: 1\n",
      "slots: 1\n",
      "from: 1\n",
      "the: 1\n",
      "desired: 1\n",
      "value: 1\n",
      "be: 1\n",
      "found: 1\n"
     ]
    }
   ],
   "source": [
    "a_text = 'In computing, a hash table hash map is a data structure which implements an associative array abstract data type, a structure that can map keys to values. A hash table uses a hash function to compute an index into an array of buckets or slots from which the desired value can be found'\n",
    "def distinctWords(text):\n",
    "    lower_text = text.lower().split()\n",
    "    output_dict = {}\n",
    "    for word in lower_text:\n",
    "        output_dict[word] = 0\n",
    "    for word in lower_text:\n",
    "        output_dict[word] += 1\n",
    "    for key,value in output_dict.items():\n",
    "        print(f\"{key}: {value}\")\n",
    "    \n",
    "\n",
    "distinctWords(a_text)"
   ]
  },
  {
   "cell_type": "markdown",
   "metadata": {},
   "source": [
    "## Exercise #3\n",
    "\n",
    "Write a program to implement a Linear Search Algorithm. Also in a comment, write the Time Complexity of the following algorithm.\n",
    "\n",
    "#### Hint: Linear Searching will require searching a list for a given number. "
   ]
  },
  {
   "cell_type": "code",
   "execution_count": 83,
   "metadata": {},
   "outputs": [
    {
     "data": {
      "text/plain": [
       "'Sorry.. 8 is not here!'"
      ]
     },
     "execution_count": 83,
     "metadata": {},
     "output_type": "execute_result"
    }
   ],
   "source": [
    "def linearSearch(array, num):\n",
    "    for i in range(len(array)):\n",
    "        if array[i] == num:\n",
    "            return f\"The given number is at index..{i}\"\n",
    "    return f\"Sorry.. {num} is not here!\"\n",
    "#Time Complexity for the algorithm is O(n)\n",
    "linearSearch([1,5,7,9,11,13], 8)"
   ]
  }
 ],
 "metadata": {
  "kernelspec": {
   "display_name": "Python 3",
   "language": "python",
   "name": "python3"
  },
  "language_info": {
   "codemirror_mode": {
    "name": "ipython",
    "version": 3
   },
   "file_extension": ".py",
   "mimetype": "text/x-python",
   "name": "python",
   "nbconvert_exporter": "python",
   "pygments_lexer": "ipython3",
   "version": "3.8.8"
  }
 },
 "nbformat": 4,
 "nbformat_minor": 2
}
